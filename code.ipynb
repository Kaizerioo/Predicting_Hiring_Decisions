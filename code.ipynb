{
 "cells": [
  {
   "cell_type": "code",
   "execution_count": 1,
   "metadata": {},
   "outputs": [],
   "source": [
    "#library\n",
    "import pandas as pd\n",
    "import matplotlib.pyplot as plt\n",
    "import seaborn as sns\n",
    "import numpy as np\n",
    "\n",
    "from sklearn.model_selection import train_test_split\n",
    "from sklearn.metrics import accuracy_score, confusion_matrix, classification_report\n",
    "from sklearn.preprocessing import StandardScaler\n",
    "\n",
    "from sklearn.linear_model import LogisticRegression\n",
    "from sklearn.tree import DecisionTreeClassifier\n",
    "from sklearn.svm import SVC\n",
    "from sklearn.neighbors import KNeighborsClassifier\n",
    "from sklearn.ensemble import RandomForestClassifier\n",
    "\n",
    "from sklearn.metrics import f1_score\n",
    "\n",
    "import pickle\n",
    "import joblib"
   ]
  },
  {
   "cell_type": "code",
   "execution_count": 2,
   "metadata": {},
   "outputs": [],
   "source": [
    "#read file\n",
    "\n",
    "df = pd.read_csv('C:/Binus/Semester 4/Machine Learning/AoL/dataset/recruitment_data.csv')"
   ]
  },
  {
   "cell_type": "markdown",
   "metadata": {},
   "source": [
    "Explore Data"
   ]
  },
  {
   "cell_type": "code",
   "execution_count": 3,
   "metadata": {},
   "outputs": [
    {
     "data": {
      "text/html": [
       "<div>\n",
       "<style scoped>\n",
       "    .dataframe tbody tr th:only-of-type {\n",
       "        vertical-align: middle;\n",
       "    }\n",
       "\n",
       "    .dataframe tbody tr th {\n",
       "        vertical-align: top;\n",
       "    }\n",
       "\n",
       "    .dataframe thead th {\n",
       "        text-align: right;\n",
       "    }\n",
       "</style>\n",
       "<table border=\"1\" class=\"dataframe\">\n",
       "  <thead>\n",
       "    <tr style=\"text-align: right;\">\n",
       "      <th></th>\n",
       "      <th>Age</th>\n",
       "      <th>Gender</th>\n",
       "      <th>EducationLevel</th>\n",
       "      <th>ExperienceYears</th>\n",
       "      <th>PreviousCompanies</th>\n",
       "      <th>DistanceFromCompany</th>\n",
       "      <th>InterviewScore</th>\n",
       "      <th>SkillScore</th>\n",
       "      <th>PersonalityScore</th>\n",
       "      <th>RecruitmentStrategy</th>\n",
       "      <th>HiringDecision</th>\n",
       "    </tr>\n",
       "  </thead>\n",
       "  <tbody>\n",
       "    <tr>\n",
       "      <th>0</th>\n",
       "      <td>26</td>\n",
       "      <td>1</td>\n",
       "      <td>2</td>\n",
       "      <td>0</td>\n",
       "      <td>3</td>\n",
       "      <td>26.783828</td>\n",
       "      <td>48</td>\n",
       "      <td>78</td>\n",
       "      <td>91</td>\n",
       "      <td>1</td>\n",
       "      <td>1</td>\n",
       "    </tr>\n",
       "    <tr>\n",
       "      <th>1</th>\n",
       "      <td>39</td>\n",
       "      <td>1</td>\n",
       "      <td>4</td>\n",
       "      <td>12</td>\n",
       "      <td>3</td>\n",
       "      <td>25.862694</td>\n",
       "      <td>35</td>\n",
       "      <td>68</td>\n",
       "      <td>80</td>\n",
       "      <td>2</td>\n",
       "      <td>1</td>\n",
       "    </tr>\n",
       "    <tr>\n",
       "      <th>2</th>\n",
       "      <td>48</td>\n",
       "      <td>0</td>\n",
       "      <td>2</td>\n",
       "      <td>3</td>\n",
       "      <td>2</td>\n",
       "      <td>9.920805</td>\n",
       "      <td>20</td>\n",
       "      <td>67</td>\n",
       "      <td>13</td>\n",
       "      <td>2</td>\n",
       "      <td>0</td>\n",
       "    </tr>\n",
       "    <tr>\n",
       "      <th>3</th>\n",
       "      <td>34</td>\n",
       "      <td>1</td>\n",
       "      <td>2</td>\n",
       "      <td>5</td>\n",
       "      <td>2</td>\n",
       "      <td>6.407751</td>\n",
       "      <td>36</td>\n",
       "      <td>27</td>\n",
       "      <td>70</td>\n",
       "      <td>3</td>\n",
       "      <td>0</td>\n",
       "    </tr>\n",
       "    <tr>\n",
       "      <th>4</th>\n",
       "      <td>30</td>\n",
       "      <td>0</td>\n",
       "      <td>1</td>\n",
       "      <td>6</td>\n",
       "      <td>1</td>\n",
       "      <td>43.105343</td>\n",
       "      <td>23</td>\n",
       "      <td>52</td>\n",
       "      <td>85</td>\n",
       "      <td>2</td>\n",
       "      <td>0</td>\n",
       "    </tr>\n",
       "  </tbody>\n",
       "</table>\n",
       "</div>"
      ],
      "text/plain": [
       "   Age  Gender  EducationLevel  ExperienceYears  PreviousCompanies  \\\n",
       "0   26       1               2                0                  3   \n",
       "1   39       1               4               12                  3   \n",
       "2   48       0               2                3                  2   \n",
       "3   34       1               2                5                  2   \n",
       "4   30       0               1                6                  1   \n",
       "\n",
       "   DistanceFromCompany  InterviewScore  SkillScore  PersonalityScore  \\\n",
       "0            26.783828              48          78                91   \n",
       "1            25.862694              35          68                80   \n",
       "2             9.920805              20          67                13   \n",
       "3             6.407751              36          27                70   \n",
       "4            43.105343              23          52                85   \n",
       "\n",
       "   RecruitmentStrategy  HiringDecision  \n",
       "0                    1               1  \n",
       "1                    2               1  \n",
       "2                    2               0  \n",
       "3                    3               0  \n",
       "4                    2               0  "
      ]
     },
     "execution_count": 3,
     "metadata": {},
     "output_type": "execute_result"
    }
   ],
   "source": [
    "#show head data\n",
    "df.head()"
   ]
  },
  {
   "cell_type": "code",
   "execution_count": 4,
   "metadata": {},
   "outputs": [
    {
     "data": {
      "text/plain": [
       "Age                    0\n",
       "Gender                 0\n",
       "EducationLevel         0\n",
       "ExperienceYears        0\n",
       "PreviousCompanies      0\n",
       "DistanceFromCompany    0\n",
       "InterviewScore         0\n",
       "SkillScore             0\n",
       "PersonalityScore       0\n",
       "RecruitmentStrategy    0\n",
       "HiringDecision         0\n",
       "dtype: int64"
      ]
     },
     "execution_count": 4,
     "metadata": {},
     "output_type": "execute_result"
    }
   ],
   "source": [
    "#find missing value\n",
    "df.isnull().sum()"
   ]
  },
  {
   "cell_type": "code",
   "execution_count": 5,
   "metadata": {},
   "outputs": [
    {
     "data": {
      "image/png": "[encoded data removed]",
      "text/plain": [
       "<Figure size 900x700 with 2 Axes>"
      ]
     },
     "metadata": {},
     "output_type": "display_data"
    }
   ],
   "source": [
    "# show correlation\n",
    "corr = df.corr()\n",
    "\n",
    "#mask for the upper triangle\n",
    "mask = np.triu(np.ones_like(corr, dtype=bool))\n",
    "\n",
    "f, ax = plt.subplots(figsize=(9, 7))\n",
    "\n",
    "#custom diverging colormap\n",
    "cmap = sns.diverging_palette(230, 20, as_cmap=True)\n",
    "\n",
    "sns.heatmap(corr, mask=mask, cmap=cmap, vmax=.3, center=0, square=True, linewidths=.5, cbar_kws={\"shrink\": .5})\n",
    "\n",
    "plt.show()"
   ]
  },
  {
   "cell_type": "code",
   "execution_count": 6,
   "metadata": {},
   "outputs": [],
   "source": [
    "temp_df = df"
   ]
  },
  {
   "cell_type": "code",
   "execution_count": 7,
   "metadata": {},
   "outputs": [
    {
     "data": {
      "text/html": [
       "<div>\n",
       "<style scoped>\n",
       "    .dataframe tbody tr th:only-of-type {\n",
       "        vertical-align: middle;\n",
       "    }\n",
       "\n",
       "    .dataframe tbody tr th {\n",
       "        vertical-align: top;\n",
       "    }\n",
       "\n",
       "    .dataframe thead th {\n",
       "        text-align: right;\n",
       "    }\n",
       "</style>\n",
       "<table border=\"1\" class=\"dataframe\">\n",
       "  <thead>\n",
       "    <tr style=\"text-align: right;\">\n",
       "      <th></th>\n",
       "      <th>EducationLevel</th>\n",
       "      <th>ExperienceYears</th>\n",
       "      <th>PreviousCompanies</th>\n",
       "      <th>InterviewScore</th>\n",
       "      <th>SkillScore</th>\n",
       "      <th>PersonalityScore</th>\n",
       "      <th>RecruitmentStrategy</th>\n",
       "      <th>HiringDecision</th>\n",
       "    </tr>\n",
       "  </thead>\n",
       "  <tbody>\n",
       "    <tr>\n",
       "      <th>0</th>\n",
       "      <td>2</td>\n",
       "      <td>0</td>\n",
       "      <td>3</td>\n",
       "      <td>48</td>\n",
       "      <td>78</td>\n",
       "      <td>91</td>\n",
       "      <td>1</td>\n",
       "      <td>1</td>\n",
       "    </tr>\n",
       "    <tr>\n",
       "      <th>1</th>\n",
       "      <td>4</td>\n",
       "      <td>12</td>\n",
       "      <td>3</td>\n",
       "      <td>35</td>\n",
       "      <td>68</td>\n",
       "      <td>80</td>\n",
       "      <td>2</td>\n",
       "      <td>1</td>\n",
       "    </tr>\n",
       "    <tr>\n",
       "      <th>2</th>\n",
       "      <td>2</td>\n",
       "      <td>3</td>\n",
       "      <td>2</td>\n",
       "      <td>20</td>\n",
       "      <td>67</td>\n",
       "      <td>13</td>\n",
       "      <td>2</td>\n",
       "      <td>0</td>\n",
       "    </tr>\n",
       "    <tr>\n",
       "      <th>3</th>\n",
       "      <td>2</td>\n",
       "      <td>5</td>\n",
       "      <td>2</td>\n",
       "      <td>36</td>\n",
       "      <td>27</td>\n",
       "      <td>70</td>\n",
       "      <td>3</td>\n",
       "      <td>0</td>\n",
       "    </tr>\n",
       "    <tr>\n",
       "      <th>4</th>\n",
       "      <td>1</td>\n",
       "      <td>6</td>\n",
       "      <td>1</td>\n",
       "      <td>23</td>\n",
       "      <td>52</td>\n",
       "      <td>85</td>\n",
       "      <td>2</td>\n",
       "      <td>0</td>\n",
       "    </tr>\n",
       "  </tbody>\n",
       "</table>\n",
       "</div>"
      ],
      "text/plain": [
       "   EducationLevel  ExperienceYears  PreviousCompanies  InterviewScore  \\\n",
       "0               2                0                  3              48   \n",
       "1               4               12                  3              35   \n",
       "2               2                3                  2              20   \n",
       "3               2                5                  2              36   \n",
       "4               1                6                  1              23   \n",
       "\n",
       "   SkillScore  PersonalityScore  RecruitmentStrategy  HiringDecision  \n",
       "0          78                91                    1               1  \n",
       "1          68                80                    2               1  \n",
       "2          67                13                    2               0  \n",
       "3          27                70                    3               0  \n",
       "4          52                85                    2               0  "
      ]
     },
     "execution_count": 7,
     "metadata": {},
     "output_type": "execute_result"
    }
   ],
   "source": [
    "temp_df = temp_df.drop([\"Age\", \"Gender\", \"DistanceFromCompany\"], axis = 1)\n",
    "temp_df.head()"
   ]
  },
  {
   "cell_type": "code",
   "execution_count": 8,
   "metadata": {},
   "outputs": [
    {
     "data": {
      "text/plain": [
       "((1500, 10), (1500,))"
      ]
     },
     "execution_count": 8,
     "metadata": {},
     "output_type": "execute_result"
    }
   ],
   "source": [
    "x = df.drop(\"HiringDecision\",axis = 1)\n",
    "y = df[\"HiringDecision\"]\n",
    "x.shape, y.shape"
   ]
  },
  {
   "cell_type": "markdown",
   "metadata": {},
   "source": [
    "Splitting data"
   ]
  },
  {
   "cell_type": "code",
   "execution_count": 9,
   "metadata": {},
   "outputs": [],
   "source": [
    "x_train, x_test, y_train, y_test = train_test_split(x, y, train_size= .75)"
   ]
  },
  {
   "cell_type": "markdown",
   "metadata": {},
   "source": [
    "Scaling data"
   ]
  },
  {
   "cell_type": "code",
   "execution_count": null,
   "metadata": {},
   "outputs": [],
   "source": []
  },
  {
   "cell_type": "code",
   "execution_count": 10,
   "metadata": {},
   "outputs": [],
   "source": [
    "x_train = x_train / 255\n",
    "x_test = x_test / 255"
   ]
  },
  {
   "cell_type": "markdown",
   "metadata": {},
   "source": [
    "Modelling "
   ]
  },
  {
   "cell_type": "code",
   "execution_count": 11,
   "metadata": {},
   "outputs": [],
   "source": [
    "models = {\n",
    "    \"Logistic Regression\": LogisticRegression(),\n",
    "    \"K-Nearest Neighbors\": KNeighborsClassifier(),\n",
    "    \"Decision Tree\": DecisionTreeClassifier(),\n",
    "    \"Random Forest\": RandomForestClassifier(),\n",
    "    \"Support Vector Machine\": SVC()\n",
    "}"
   ]
  },
  {
   "cell_type": "code",
   "execution_count": 12,
   "metadata": {},
   "outputs": [],
   "source": [
    "#store performance model\n",
    "model_performance = {}"
   ]
  },
  {
   "cell_type": "code",
   "execution_count": 13,
   "metadata": {},
   "outputs": [
    {
     "name": "stdout",
     "output_type": "stream",
     "text": [
      "\n",
      "\u001b[1mClassification with Logistic Regression:\u001b[0m\n",
      "------------------------------\n",
      "\u001b[1m**Accuracy**:\u001b[0m\n",
      " 0.7226666666666667\n",
      "\n",
      "\u001b[1m**Confusion Matrix**:\u001b[0m\n",
      " [[259   4]\n",
      " [100  12]]\n",
      "\n",
      "\u001b[1m**Classification Report**:\u001b[0m\n",
      "               precision    recall  f1-score   support\n",
      "\n",
      "           0       0.72      0.98      0.83       263\n",
      "           1       0.75      0.11      0.19       112\n",
      "\n",
      "    accuracy                           0.72       375\n",
      "   macro avg       0.74      0.55      0.51       375\n",
      "weighted avg       0.73      0.72      0.64       375\n",
      "\n",
      "\n",
      "\u001b[1mClassification with K-Nearest Neighbors:\u001b[0m\n",
      "------------------------------\n",
      "\u001b[1m**Accuracy**:\u001b[0m\n",
      " 0.6826666666666666\n",
      "\n",
      "\u001b[1m**Confusion Matrix**:\u001b[0m\n",
      " [[217  46]\n",
      " [ 73  39]]\n",
      "\n",
      "\u001b[1m**Classification Report**:\u001b[0m\n",
      "               precision    recall  f1-score   support\n",
      "\n",
      "           0       0.75      0.83      0.78       263\n",
      "           1       0.46      0.35      0.40       112\n",
      "\n",
      "    accuracy                           0.68       375\n",
      "   macro avg       0.60      0.59      0.59       375\n",
      "weighted avg       0.66      0.68      0.67       375\n",
      "\n",
      "\n",
      "\u001b[1mClassification with Decision Tree:\u001b[0m\n",
      "------------------------------\n",
      "\u001b[1m**Accuracy**:\u001b[0m\n",
      " 0.8853333333333333\n",
      "\n",
      "\u001b[1m**Confusion Matrix**:\u001b[0m\n",
      " [[242  21]\n",
      " [ 22  90]]\n",
      "\n",
      "\u001b[1m**Classification Report**:\u001b[0m\n",
      "               precision    recall  f1-score   support\n",
      "\n",
      "           0       0.92      0.92      0.92       263\n",
      "           1       0.81      0.80      0.81       112\n",
      "\n",
      "    accuracy                           0.89       375\n",
      "   macro avg       0.86      0.86      0.86       375\n",
      "weighted avg       0.89      0.89      0.89       375\n",
      "\n",
      "\n",
      "\u001b[1mClassification with Random Forest:\u001b[0m\n",
      "------------------------------\n",
      "\u001b[1m**Accuracy**:\u001b[0m\n",
      " 0.9253333333333333\n",
      "\n",
      "\u001b[1m**Confusion Matrix**:\u001b[0m\n",
      " [[258   5]\n",
      " [ 23  89]]\n",
      "\n",
      "\u001b[1m**Classification Report**:\u001b[0m\n",
      "               precision    recall  f1-score   support\n",
      "\n",
      "           0       0.92      0.98      0.95       263\n",
      "           1       0.95      0.79      0.86       112\n",
      "\n",
      "    accuracy                           0.93       375\n",
      "   macro avg       0.93      0.89      0.91       375\n",
      "weighted avg       0.93      0.93      0.92       375\n",
      "\n",
      "\n",
      "\u001b[1mClassification with Support Vector Machine:\u001b[0m\n",
      "------------------------------\n",
      "\u001b[1m**Accuracy**:\u001b[0m\n",
      " 0.72\n",
      "\n",
      "\u001b[1m**Confusion Matrix**:\u001b[0m\n",
      " [[262   1]\n",
      " [104   8]]\n",
      "\n",
      "\u001b[1m**Classification Report**:\u001b[0m\n",
      "               precision    recall  f1-score   support\n",
      "\n",
      "           0       0.72      1.00      0.83       263\n",
      "           1       0.89      0.07      0.13       112\n",
      "\n",
      "    accuracy                           0.72       375\n",
      "   macro avg       0.80      0.53      0.48       375\n",
      "weighted avg       0.77      0.72      0.62       375\n",
      "\n"
     ]
    }
   ],
   "source": [
    "#apply model\n",
    "for model_name, model in models.items():\n",
    "    print(f\"\\n\\033[1mClassification with {model_name}:\\033[0m\\n{'-' * 30}\")\n",
    "    model.fit(x_train, y_train)\n",
    "    y_pred = model.predict(x_test)\n",
    "    accuracy = accuracy_score(y_test, y_pred)\n",
    "    f1 = f1_score(y_test, y_pred, average='weighted')\n",
    "    model_performance[model_name] = (accuracy, f1)\n",
    "    print(\"\\033[1m**Accuracy**:\\033[0m\\n\", accuracy)\n",
    "    print(\"\\n\\033[1m**Confusion Matrix**:\\033[0m\\n\", confusion_matrix(y_test, y_pred))\n",
    "    print(\"\\n\\033[1m**Classification Report**:\\033[0m\\n\", classification_report(y_test, y_pred))"
   ]
  },
  {
   "cell_type": "code",
   "execution_count": 14,
   "metadata": {},
   "outputs": [],
   "source": [
    "top_models = sorted(model_performance.items(), key=lambda x: x[1][1], reverse=True)[:1]"
   ]
  },
  {
   "cell_type": "code",
   "execution_count": 15,
   "metadata": {},
   "outputs": [
    {
     "name": "stdout",
     "output_type": "stream",
     "text": [
      "\n",
      "\u001b[1mTop Model based on F1 Score:\u001b[0m\n",
      " [('Random Forest', (0.9253333333333333, 0.9233064915286502))]\n"
     ]
    }
   ],
   "source": [
    "print(\"\\n\\033[1mTop Model based on F1 Score:\\033[0m\\n\", top_models)"
   ]
  },
  {
   "cell_type": "markdown",
   "metadata": {},
   "source": [
    "TEMPORARY"
   ]
  },
  {
   "cell_type": "code",
   "execution_count": 16,
   "metadata": {},
   "outputs": [
    {
     "data": {
      "text/plain": [
       "((1500, 7), (1500,))"
      ]
     },
     "execution_count": 16,
     "metadata": {},
     "output_type": "execute_result"
    }
   ],
   "source": [
    "x_tmp = temp_df.drop(\"HiringDecision\",axis = 1)\n",
    "y_tmp = temp_df[\"HiringDecision\"]\n",
    "x_tmp.shape, y_tmp.shape"
   ]
  },
  {
   "cell_type": "code",
   "execution_count": 17,
   "metadata": {},
   "outputs": [],
   "source": [
    "tmp_x_train, tmp_x_test, tmp_y_train, tmp_y_test = train_test_split(x_tmp, y_tmp, train_size= .75)"
   ]
  },
  {
   "cell_type": "code",
   "execution_count": 18,
   "metadata": {},
   "outputs": [],
   "source": [
    "tmp_x_train = tmp_x_train / 255\n",
    "tmp_x_test = tmp_x_test / 255"
   ]
  },
  {
   "cell_type": "code",
   "execution_count": 19,
   "metadata": {},
   "outputs": [],
   "source": [
    "tmp_model_performance = {}"
   ]
  },
  {
   "cell_type": "code",
   "execution_count": 20,
   "metadata": {},
   "outputs": [
    {
     "name": "stdout",
     "output_type": "stream",
     "text": [
      "\n",
      "\u001b[1mClassification with Logistic Regression:\u001b[0m\n",
      "------------------------------\n",
      "\u001b[1m**Accuracy**:\u001b[0m\n",
      " 0.7466666666666667\n",
      "\n",
      "\u001b[1m**Confusion Matrix**:\u001b[0m\n",
      " [[266   3]\n",
      " [ 92  14]]\n",
      "\n",
      "\u001b[1m**Classification Report**:\u001b[0m\n",
      "               precision    recall  f1-score   support\n",
      "\n",
      "           0       0.74      0.99      0.85       269\n",
      "           1       0.82      0.13      0.23       106\n",
      "\n",
      "    accuracy                           0.75       375\n",
      "   macro avg       0.78      0.56      0.54       375\n",
      "weighted avg       0.77      0.75      0.67       375\n",
      "\n",
      "\n",
      "\u001b[1mClassification with K-Nearest Neighbors:\u001b[0m\n",
      "------------------------------\n",
      "\u001b[1m**Accuracy**:\u001b[0m\n",
      " 0.7066666666666667\n",
      "\n",
      "\u001b[1m**Confusion Matrix**:\u001b[0m\n",
      " [[224  45]\n",
      " [ 65  41]]\n",
      "\n",
      "\u001b[1m**Classification Report**:\u001b[0m\n",
      "               precision    recall  f1-score   support\n",
      "\n",
      "           0       0.78      0.83      0.80       269\n",
      "           1       0.48      0.39      0.43       106\n",
      "\n",
      "    accuracy                           0.71       375\n",
      "   macro avg       0.63      0.61      0.61       375\n",
      "weighted avg       0.69      0.71      0.70       375\n",
      "\n",
      "\n",
      "\u001b[1mClassification with Decision Tree:\u001b[0m\n",
      "------------------------------\n",
      "\u001b[1m**Accuracy**:\u001b[0m\n",
      " 0.9093333333333333\n",
      "\n",
      "\u001b[1m**Confusion Matrix**:\u001b[0m\n",
      " [[250  19]\n",
      " [ 15  91]]\n",
      "\n",
      "\u001b[1m**Classification Report**:\u001b[0m\n",
      "               precision    recall  f1-score   support\n",
      "\n",
      "           0       0.94      0.93      0.94       269\n",
      "           1       0.83      0.86      0.84       106\n",
      "\n",
      "    accuracy                           0.91       375\n",
      "   macro avg       0.89      0.89      0.89       375\n",
      "weighted avg       0.91      0.91      0.91       375\n",
      "\n",
      "\n",
      "\u001b[1mClassification with Random Forest:\u001b[0m\n",
      "------------------------------\n",
      "\u001b[1m**Accuracy**:\u001b[0m\n",
      " 0.96\n",
      "\n",
      "\u001b[1m**Confusion Matrix**:\u001b[0m\n",
      " [[267   2]\n",
      " [ 13  93]]\n",
      "\n",
      "\u001b[1m**Classification Report**:\u001b[0m\n",
      "               precision    recall  f1-score   support\n",
      "\n",
      "           0       0.95      0.99      0.97       269\n",
      "           1       0.98      0.88      0.93       106\n",
      "\n",
      "    accuracy                           0.96       375\n",
      "   macro avg       0.97      0.93      0.95       375\n",
      "weighted avg       0.96      0.96      0.96       375\n",
      "\n",
      "\n",
      "\u001b[1mClassification with Support Vector Machine:\u001b[0m\n",
      "------------------------------\n",
      "\u001b[1m**Accuracy**:\u001b[0m\n",
      " 0.744\n",
      "\n",
      "\u001b[1m**Confusion Matrix**:\u001b[0m\n",
      " [[267   2]\n",
      " [ 94  12]]\n",
      "\n",
      "\u001b[1m**Classification Report**:\u001b[0m\n",
      "               precision    recall  f1-score   support\n",
      "\n",
      "           0       0.74      0.99      0.85       269\n",
      "           1       0.86      0.11      0.20       106\n",
      "\n",
      "    accuracy                           0.74       375\n",
      "   macro avg       0.80      0.55      0.52       375\n",
      "weighted avg       0.77      0.74      0.66       375\n",
      "\n"
     ]
    }
   ],
   "source": [
    "#apply model\n",
    "for model_name, model in models.items():\n",
    "    print(f\"\\n\\033[1mClassification with {model_name}:\\033[0m\\n{'-' * 30}\")\n",
    "    model.fit(tmp_x_train, tmp_y_train)\n",
    "    tmp_y_pred = model.predict(tmp_x_test)\n",
    "    tmp_accuracy = accuracy_score(tmp_y_test, tmp_y_pred)\n",
    "    tmp_f1 = f1_score(tmp_y_test, tmp_y_pred, average='weighted')\n",
    "    tmp_model_performance[model_name] = (tmp_accuracy, tmp_f1)\n",
    "    print(\"\\033[1m**Accuracy**:\\033[0m\\n\", tmp_accuracy)\n",
    "    print(\"\\n\\033[1m**Confusion Matrix**:\\033[0m\\n\", confusion_matrix(tmp_y_test, tmp_y_pred))\n",
    "    print(\"\\n\\033[1m**Classification Report**:\\033[0m\\n\", classification_report(tmp_y_test, tmp_y_pred))"
   ]
  },
  {
   "cell_type": "code",
   "execution_count": 21,
   "metadata": {},
   "outputs": [],
   "source": [
    "tmp_top_models = sorted(tmp_model_performance.items(), key=lambda x: x[1][1], reverse=True)[:1]"
   ]
  },
  {
   "cell_type": "code",
   "execution_count": 22,
   "metadata": {},
   "outputs": [
    {
     "name": "stdout",
     "output_type": "stream",
     "text": [
      "\n",
      "\u001b[1mTop Model based on F1 Score:\u001b[0m\n",
      " [('Random Forest', (0.96, 0.9593062012342658))]\n"
     ]
    }
   ],
   "source": [
    "print(\"\\n\\033[1mTop Model based on F1 Score:\\033[0m\\n\", tmp_top_models)"
   ]
  },
  {
   "cell_type": "code",
   "execution_count": 23,
   "metadata": {},
   "outputs": [
    {
     "name": "stdout",
     "output_type": "stream",
     "text": [
      "Random Forest\n",
      "Accuracy: 0.9546666666666667\n",
      "[[265   4]\n",
      " [ 13  93]]\n",
      "              precision    recall  f1-score   support\n",
      "\n",
      "           0       0.95      0.99      0.97       269\n",
      "           1       0.96      0.88      0.92       106\n",
      "\n",
      "    accuracy                           0.95       375\n",
      "   macro avg       0.96      0.93      0.94       375\n",
      "weighted avg       0.95      0.95      0.95       375\n",
      "\n"
     ]
    }
   ],
   "source": [
    "forest = RandomForestClassifier()\n",
    "forest.fit(tmp_x_train, tmp_y_train)\n",
    "prediction = forest.predict(tmp_x_test)\n",
    "\n",
    "print(\"Random Forest\")\n",
    "print(f'Accuracy: {accuracy_score(tmp_y_test, prediction)}')\n",
    "print(confusion_matrix(tmp_y_test, prediction))\n",
    "print(classification_report(tmp_y_test, prediction))"
   ]
  },
  {
   "cell_type": "code",
   "execution_count": 24,
   "metadata": {},
   "outputs": [
    {
     "data": {
      "text/html": [
       "<div>\n",
       "<style scoped>\n",
       "    .dataframe tbody tr th:only-of-type {\n",
       "        vertical-align: middle;\n",
       "    }\n",
       "\n",
       "    .dataframe tbody tr th {\n",
       "        vertical-align: top;\n",
       "    }\n",
       "\n",
       "    .dataframe thead th {\n",
       "        text-align: right;\n",
       "    }\n",
       "</style>\n",
       "<table border=\"1\" class=\"dataframe\">\n",
       "  <thead>\n",
       "    <tr style=\"text-align: right;\">\n",
       "      <th></th>\n",
       "      <th>EducationLevel</th>\n",
       "      <th>ExperienceYears</th>\n",
       "      <th>PreviousCompanies</th>\n",
       "      <th>InterviewScore</th>\n",
       "      <th>SkillScore</th>\n",
       "      <th>PersonalityScore</th>\n",
       "      <th>RecruitmentStrategy</th>\n",
       "    </tr>\n",
       "  </thead>\n",
       "  <tbody>\n",
       "    <tr>\n",
       "      <th>1078</th>\n",
       "      <td>0.003922</td>\n",
       "      <td>0.031373</td>\n",
       "      <td>0.019608</td>\n",
       "      <td>0.070588</td>\n",
       "      <td>0.200000</td>\n",
       "      <td>0.098039</td>\n",
       "      <td>0.007843</td>\n",
       "    </tr>\n",
       "    <tr>\n",
       "      <th>844</th>\n",
       "      <td>0.003922</td>\n",
       "      <td>0.050980</td>\n",
       "      <td>0.011765</td>\n",
       "      <td>0.074510</td>\n",
       "      <td>0.070588</td>\n",
       "      <td>0.003922</td>\n",
       "      <td>0.007843</td>\n",
       "    </tr>\n",
       "    <tr>\n",
       "      <th>351</th>\n",
       "      <td>0.007843</td>\n",
       "      <td>0.019608</td>\n",
       "      <td>0.011765</td>\n",
       "      <td>0.000000</td>\n",
       "      <td>0.086275</td>\n",
       "      <td>0.054902</td>\n",
       "      <td>0.007843</td>\n",
       "    </tr>\n",
       "    <tr>\n",
       "      <th>1007</th>\n",
       "      <td>0.003922</td>\n",
       "      <td>0.027451</td>\n",
       "      <td>0.003922</td>\n",
       "      <td>0.113725</td>\n",
       "      <td>0.356863</td>\n",
       "      <td>0.282353</td>\n",
       "      <td>0.011765</td>\n",
       "    </tr>\n",
       "    <tr>\n",
       "      <th>1371</th>\n",
       "      <td>0.007843</td>\n",
       "      <td>0.031373</td>\n",
       "      <td>0.003922</td>\n",
       "      <td>0.011765</td>\n",
       "      <td>0.023529</td>\n",
       "      <td>0.074510</td>\n",
       "      <td>0.003922</td>\n",
       "    </tr>\n",
       "    <tr>\n",
       "      <th>...</th>\n",
       "      <td>...</td>\n",
       "      <td>...</td>\n",
       "      <td>...</td>\n",
       "      <td>...</td>\n",
       "      <td>...</td>\n",
       "      <td>...</td>\n",
       "      <td>...</td>\n",
       "    </tr>\n",
       "    <tr>\n",
       "      <th>1020</th>\n",
       "      <td>0.007843</td>\n",
       "      <td>0.043137</td>\n",
       "      <td>0.015686</td>\n",
       "      <td>0.086275</td>\n",
       "      <td>0.200000</td>\n",
       "      <td>0.270588</td>\n",
       "      <td>0.007843</td>\n",
       "    </tr>\n",
       "    <tr>\n",
       "      <th>1287</th>\n",
       "      <td>0.015686</td>\n",
       "      <td>0.031373</td>\n",
       "      <td>0.007843</td>\n",
       "      <td>0.180392</td>\n",
       "      <td>0.305882</td>\n",
       "      <td>0.313725</td>\n",
       "      <td>0.011765</td>\n",
       "    </tr>\n",
       "    <tr>\n",
       "      <th>102</th>\n",
       "      <td>0.007843</td>\n",
       "      <td>0.031373</td>\n",
       "      <td>0.007843</td>\n",
       "      <td>0.301961</td>\n",
       "      <td>0.337255</td>\n",
       "      <td>0.039216</td>\n",
       "      <td>0.007843</td>\n",
       "    </tr>\n",
       "    <tr>\n",
       "      <th>798</th>\n",
       "      <td>0.011765</td>\n",
       "      <td>0.035294</td>\n",
       "      <td>0.011765</td>\n",
       "      <td>0.254902</td>\n",
       "      <td>0.337255</td>\n",
       "      <td>0.066667</td>\n",
       "      <td>0.011765</td>\n",
       "    </tr>\n",
       "    <tr>\n",
       "      <th>731</th>\n",
       "      <td>0.003922</td>\n",
       "      <td>0.039216</td>\n",
       "      <td>0.011765</td>\n",
       "      <td>0.035294</td>\n",
       "      <td>0.156863</td>\n",
       "      <td>0.309804</td>\n",
       "      <td>0.011765</td>\n",
       "    </tr>\n",
       "  </tbody>\n",
       "</table>\n",
       "<p>375 rows × 7 columns</p>\n",
       "</div>"
      ],
      "text/plain": [
       "      EducationLevel  ExperienceYears  PreviousCompanies  InterviewScore  \\\n",
       "1078        0.003922         0.031373           0.019608        0.070588   \n",
       "844         0.003922         0.050980           0.011765        0.074510   \n",
       "351         0.007843         0.019608           0.011765        0.000000   \n",
       "1007        0.003922         0.027451           0.003922        0.113725   \n",
       "1371        0.007843         0.031373           0.003922        0.011765   \n",
       "...              ...              ...                ...             ...   \n",
       "1020        0.007843         0.043137           0.015686        0.086275   \n",
       "1287        0.015686         0.031373           0.007843        0.180392   \n",
       "102         0.007843         0.031373           0.007843        0.301961   \n",
       "798         0.011765         0.035294           0.011765        0.254902   \n",
       "731         0.003922         0.039216           0.011765        0.035294   \n",
       "\n",
       "      SkillScore  PersonalityScore  RecruitmentStrategy  \n",
       "1078    0.200000          0.098039             0.007843  \n",
       "844     0.070588          0.003922             0.007843  \n",
       "351     0.086275          0.054902             0.007843  \n",
       "1007    0.356863          0.282353             0.011765  \n",
       "1371    0.023529          0.074510             0.003922  \n",
       "...          ...               ...                  ...  \n",
       "1020    0.200000          0.270588             0.007843  \n",
       "1287    0.305882          0.313725             0.011765  \n",
       "102     0.337255          0.039216             0.007843  \n",
       "798     0.337255          0.066667             0.011765  \n",
       "731     0.156863          0.309804             0.011765  \n",
       "\n",
       "[375 rows x 7 columns]"
      ]
     },
     "execution_count": 24,
     "metadata": {},
     "output_type": "execute_result"
    }
   ],
   "source": [
    "tmp_x_test"
   ]
  }
 ],
 "metadata": {
  "kernelspec": {
   "display_name": "Python 3",
   "language": "python",
   "name": "python3"
  },
  "language_info": {
   "codemirror_mode": {
    "name": "ipython",
    "version": 3
   },
   "file_extension": ".py",
   "mimetype": "text/x-python",
   "name": "python",
   "nbconvert_exporter": "python",
   "pygments_lexer": "ipython3",
   "version": "3.12.4"
  }
 },
 "nbformat": 4,
 "nbformat_minor": 2
}
